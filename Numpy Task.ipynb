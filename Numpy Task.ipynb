{
 "cells": [
  {
   "cell_type": "code",
   "execution_count": 2,
   "id": "6acaa499-d37c-48bd-a717-9ca47d5afa2b",
   "metadata": {},
   "outputs": [],
   "source": [
    "import numpy as np"
   ]
  },
  {
   "cell_type": "markdown",
   "id": "6e1a2115-d8c1-4631-8e24-76244465c0ba",
   "metadata": {},
   "source": [
    "Numpy is Numerical Python.  \n",
    "It is a library consisting of multidimensional array objects and a collection of routines for processing of array."
   ]
  },
  {
   "cell_type": "markdown",
   "id": "66208b1b-a938-4491-9a7b-bbb942af30c5",
   "metadata": {},
   "source": [
    "# Numpy Functions"
   ]
  },
  {
   "cell_type": "code",
   "execution_count": 21,
   "id": "a7f8bf81-fefb-4695-ad27-1027b483c485",
   "metadata": {},
   "outputs": [
    {
     "data": {
      "text/plain": [
       "array([[1, 2, 3, 4],\n",
       "       [5, 6, 7, 8]])"
      ]
     },
     "execution_count": 21,
     "metadata": {},
     "output_type": "execute_result"
    }
   ],
   "source": [
    "array1 = np.array([[1,2,3,4],[5,6,7,8]])\n",
    "array1"
   ]
  },
  {
   "cell_type": "code",
   "execution_count": 23,
   "id": "8f4489c2-d10e-43ee-b8cb-67f13232a1a8",
   "metadata": {},
   "outputs": [
    {
     "data": {
      "text/plain": [
       "array([[0, 0, 0],\n",
       "       [0, 0, 0],\n",
       "       [0, 0, 0],\n",
       "       [0, 0, 0]])"
      ]
     },
     "execution_count": 23,
     "metadata": {},
     "output_type": "execute_result"
    }
   ],
   "source": [
    "# np.zeros\n",
    "array2 = np.zeros((4,3) , dtype=int)   # Default dtype = float\n",
    "array2"
   ]
  },
  {
   "cell_type": "code",
   "execution_count": 24,
   "id": "17c42b6e-f5a0-4a9a-9751-0b9f2f22cee8",
   "metadata": {},
   "outputs": [
    {
     "data": {
      "text/plain": [
       "array([[1, 1, 1],\n",
       "       [1, 1, 1]])"
      ]
     },
     "execution_count": 24,
     "metadata": {},
     "output_type": "execute_result"
    }
   ],
   "source": [
    "# np.ones\n",
    "array3 = np.ones((2,3) , dtype=int)\n",
    "array3"
   ]
  },
  {
   "cell_type": "code",
   "execution_count": 28,
   "id": "3adf5df8-b67a-47f5-a130-d882c49b678b",
   "metadata": {},
   "outputs": [
    {
     "data": {
      "text/plain": [
       "array([ 6,  8, 10, 12, 14, 16, 18])"
      ]
     },
     "execution_count": 28,
     "metadata": {},
     "output_type": "execute_result"
    }
   ],
   "source": [
    "# np.arange\n",
    "array4 = np.arange(6,20,2)\n",
    "array4"
   ]
  },
  {
   "cell_type": "code",
   "execution_count": 33,
   "id": "eb0c9a67-b5b7-49da-9a11-437e41cdb423",
   "metadata": {},
   "outputs": [
    {
     "data": {
      "text/plain": [
       "array([10. , 12.5, 15. , 17.5, 20. ])"
      ]
     },
     "execution_count": 33,
     "metadata": {},
     "output_type": "execute_result"
    }
   ],
   "source": [
    "# linspace\n",
    "# to get the number of evenly spaced values between intervals\n",
    "# Parameters for the function - np.linespace(start, stop, num, endpoint, retstep, dtype)\n",
    "array5 = np.linspace(10,20,5)\n",
    "array5"
   ]
  },
  {
   "cell_type": "code",
   "execution_count": 35,
   "id": "153a7e12-f875-4074-be5e-279e447d90d3",
   "metadata": {},
   "outputs": [
    {
     "name": "stdout",
     "output_type": "stream",
     "text": [
      "[[15 11 22 24]\n",
      " [ 2  4  5 22]\n",
      " [ 2 22 20  6]]\n"
     ]
    }
   ],
   "source": [
    "# random\n",
    "# to get an array with random input integral elements of desired shape\n",
    "# Parameters for the function - np.full(start,end,size)\n",
    "array6 = np.random.randint(0,25,size=(3,4))\n",
    "print(array6)"
   ]
  },
  {
   "cell_type": "code",
   "execution_count": 40,
   "id": "6f7234be-5e8f-41f8-b597-c918c49d6b8d",
   "metadata": {},
   "outputs": [
    {
     "name": "stdout",
     "output_type": "stream",
     "text": [
      "[[[5 5]\n",
      "  [5 5]]\n",
      "\n",
      " [[5 5]\n",
      "  [5 5]]\n",
      "\n",
      " [[5 5]\n",
      "  [5 5]]]\n"
     ]
    }
   ],
   "source": [
    "# np.full\n",
    "# To get an array with specified input element of desired shape\n",
    "# Parameters for the function - np.full(shape,value)\n",
    "array7 = np.full((3,2,2),5)\n",
    "print(array7)"
   ]
  },
  {
   "cell_type": "code",
   "execution_count": 43,
   "id": "df8d8ff6-565d-4971-96c4-3bea6f942d1d",
   "metadata": {},
   "outputs": [
    {
     "name": "stdout",
     "output_type": "stream",
     "text": [
      "[[1. 0. 0. 0.]\n",
      " [0. 1. 0. 0.]\n",
      " [0. 0. 1. 0.]\n",
      " [0. 0. 0. 1.]]\n"
     ]
    }
   ],
   "source": [
    "# identity\n",
    "# to get an identity matrix\n",
    "array8 = np.identity(4)\n",
    "print(array8)"
   ]
  },
  {
   "cell_type": "code",
   "execution_count": 44,
   "id": "c3e8341e-13e1-497b-9492-ea5ed5b844b2",
   "metadata": {},
   "outputs": [
    {
     "data": {
      "text/plain": [
       "array([1, 2, 3])"
      ]
     },
     "execution_count": 44,
     "metadata": {},
     "output_type": "execute_result"
    }
   ],
   "source": [
    "# asarray\n",
    "# convert list to ndarray\n",
    "list_ = [1,2,3]\n",
    "array9 = np.asarray(list_)\n",
    "array9"
   ]
  },
  {
   "cell_type": "code",
   "execution_count": 52,
   "id": "9bc4c519-919d-42fd-acd9-1abacc87853c",
   "metadata": {},
   "outputs": [
    {
     "data": {
      "text/plain": [
       "array([[3, 4, 3, 2],\n",
       "       [4, 4, 2, 4]])"
      ]
     },
     "execution_count": 52,
     "metadata": {},
     "output_type": "execute_result"
    }
   ],
   "source": [
    "a = np.random.randint(1,5,(2,4))\n",
    "a"
   ]
  },
  {
   "cell_type": "code",
   "execution_count": 54,
   "id": "2861a67e-5e52-4e99-a5a9-ab9027e955a7",
   "metadata": {},
   "outputs": [
    {
     "data": {
      "text/plain": [
       "array([[7, 6, 6, 7],\n",
       "       [7, 9, 5, 5]])"
      ]
     },
     "execution_count": 54,
     "metadata": {},
     "output_type": "execute_result"
    }
   ],
   "source": [
    "b = np.random.randint(5,10,(2,4))\n",
    "b"
   ]
  },
  {
   "cell_type": "code",
   "execution_count": 57,
   "id": "9d499463-355e-4c10-b178-b284504c02ed",
   "metadata": {},
   "outputs": [
    {
     "data": {
      "text/plain": [
       "array([[21, 24, 18, 14],\n",
       "       [28, 36, 10, 20]])"
      ]
     },
     "execution_count": 57,
     "metadata": {},
     "output_type": "execute_result"
    }
   ],
   "source": [
    "# Multiply\n",
    "np.multiply(a,b)"
   ]
  },
  {
   "cell_type": "code",
   "execution_count": 58,
   "id": "8362aa74-851e-434a-8e38-2fc58635f680",
   "metadata": {
    "scrolled": true
   },
   "outputs": [
    {
     "data": {
      "text/plain": [
       "array([[0.42857143, 0.66666667, 0.5       , 0.28571429],\n",
       "       [0.57142857, 0.44444444, 0.4       , 0.8       ]])"
      ]
     },
     "execution_count": 58,
     "metadata": {},
     "output_type": "execute_result"
    }
   ],
   "source": [
    "# Divide \n",
    "np.divide(a,b)"
   ]
  },
  {
   "cell_type": "code",
   "execution_count": 70,
   "id": "1ea44004-d9dd-4aa5-820d-b8131f666b3c",
   "metadata": {},
   "outputs": [
    {
     "data": {
      "text/plain": [
       "5.0"
      ]
     },
     "execution_count": 70,
     "metadata": {},
     "output_type": "execute_result"
    }
   ],
   "source": [
    "# divide\n",
    "divide = np.divide(10,2)\n",
    "div"
   ]
  },
  {
   "cell_type": "code",
   "execution_count": 71,
   "id": "4309144e-afbe-4089-9f15-31b59861c17e",
   "metadata": {},
   "outputs": [
    {
     "data": {
      "text/plain": [
       "37200"
      ]
     },
     "execution_count": 71,
     "metadata": {},
     "output_type": "execute_result"
    }
   ],
   "source": [
    "# multiplication\n",
    "multiply = np.multiply(186, 200)\n",
    "multiply"
   ]
  },
  {
   "cell_type": "markdown",
   "id": "e325e2fb-2d7b-404c-a1cc-8fd950f82564",
   "metadata": {},
   "source": [
    "## Aggregation Operations"
   ]
  },
  {
   "cell_type": "code",
   "execution_count": 60,
   "id": "61206c8f-1983-4f6b-9237-f2340634a61d",
   "metadata": {},
   "outputs": [
    {
     "data": {
      "text/plain": [
       "array([[9, 2, 7, 4],\n",
       "       [5, 4, 9, 9]])"
      ]
     },
     "execution_count": 60,
     "metadata": {},
     "output_type": "execute_result"
    }
   ],
   "source": [
    "data = np.random.randint(1,10,(2,4))\n",
    "data"
   ]
  },
  {
   "cell_type": "code",
   "execution_count": 61,
   "id": "32977fab-3be7-4e18-97ec-f2b736648349",
   "metadata": {},
   "outputs": [
    {
     "name": "stdout",
     "output_type": "stream",
     "text": [
      "49\n",
      "[14  6 16 13]\n",
      "[22 27]\n"
     ]
    }
   ],
   "source": [
    "# Sum\n",
    "print(np.sum(data)) \n",
    "print(np.sum(data,axis=0))\n",
    "print(np.sum(data,axis=1))"
   ]
  },
  {
   "cell_type": "code",
   "execution_count": 62,
   "id": "a78390af-a8ab-44b8-a2ba-1e55197cd197",
   "metadata": {},
   "outputs": [
    {
     "data": {
      "text/plain": [
       "9"
      ]
     },
     "execution_count": 62,
     "metadata": {},
     "output_type": "execute_result"
    }
   ],
   "source": [
    "data.max()"
   ]
  },
  {
   "cell_type": "code",
   "execution_count": 63,
   "id": "4058b39c-519a-4893-9ebb-51026605596b",
   "metadata": {},
   "outputs": [
    {
     "data": {
      "text/plain": [
       "2"
      ]
     },
     "execution_count": 63,
     "metadata": {},
     "output_type": "execute_result"
    }
   ],
   "source": [
    "data.min()"
   ]
  },
  {
   "cell_type": "markdown",
   "id": "84db253b-a012-4319-9b47-4a2366b38c11",
   "metadata": {},
   "source": [
    "# Numpy array attributes"
   ]
  },
  {
   "cell_type": "markdown",
   "id": "2713ac5c-809a-48b5-a0f7-1d0b032c958b",
   "metadata": {},
   "source": [
    "#### ndarray.shape\n",
    "* This returns a tuple consisting of array dimensions."
   ]
  },
  {
   "cell_type": "code",
   "execution_count": 3,
   "id": "c212ca76-1634-4c4d-8f82-4cbb45b50a8e",
   "metadata": {},
   "outputs": [
    {
     "name": "stdout",
     "output_type": "stream",
     "text": [
      "(2, 3)\n"
     ]
    }
   ],
   "source": [
    "array_1 = np.array([[1,2,3],[4,5,6]])\n",
    "print(array_1.shape)"
   ]
  },
  {
   "cell_type": "code",
   "execution_count": 5,
   "id": "fe4869b4-22e1-446b-bcac-c2450b746968",
   "metadata": {},
   "outputs": [
    {
     "name": "stdout",
     "output_type": "stream",
     "text": [
      "(4, 2, 3)\n"
     ]
    }
   ],
   "source": [
    "array_2 = np.array([[[1,2,3],[4,5,6]],\n",
    "                       [[1,2,3],[4,5,6]],\n",
    "                       [[1,2,3],[4,5,6]],\n",
    "                       [[1,2,3],[4,5,6]]])\n",
    "print(array_2.shape)"
   ]
  },
  {
   "cell_type": "markdown",
   "id": "21dd1e4e-ca9a-4354-bd34-73aed1c86dcf",
   "metadata": {},
   "source": [
    "#### ndarray.ndim\n",
    "* This returns the number of array dimensions."
   ]
  },
  {
   "cell_type": "code",
   "execution_count": 10,
   "id": "929e4e3f-9e44-4d57-a9f3-061b15cd8327",
   "metadata": {},
   "outputs": [
    {
     "name": "stdout",
     "output_type": "stream",
     "text": [
      "The dimension of array_3:  2\n"
     ]
    }
   ],
   "source": [
    "array_3 = np.array([[1,2,3],[4,5,6]])\n",
    "print(f\"The dimension of array_3: \",array_3.ndim)"
   ]
  },
  {
   "cell_type": "markdown",
   "id": "dde0bc69-00fb-46f8-b6ca-98b358070660",
   "metadata": {},
   "source": [
    "#### ndarray.size\n",
    "* This returns the total number of elements in the array"
   ]
  },
  {
   "cell_type": "code",
   "execution_count": 11,
   "id": "be113178-635d-4820-955d-e88ce187441d",
   "metadata": {},
   "outputs": [
    {
     "name": "stdout",
     "output_type": "stream",
     "text": [
      "The total number of elements in array_4 =  6\n"
     ]
    }
   ],
   "source": [
    "array_4 = np.array([[1,2,3],[4,5,6]])\n",
    "print(f\"The total number of elements in array_4 =  {array_4.size}\")"
   ]
  },
  {
   "cell_type": "markdown",
   "id": "ab91cbb8-91ee-4840-b9df-a76df218d718",
   "metadata": {},
   "source": [
    "#### ndarray.dtype\n",
    "* This returns the data type of the array\n"
   ]
  },
  {
   "cell_type": "code",
   "execution_count": 12,
   "id": "d04e2214-7247-4ccf-9053-a6a8de02327a",
   "metadata": {},
   "outputs": [
    {
     "name": "stdout",
     "output_type": "stream",
     "text": [
      "int32\n"
     ]
    }
   ],
   "source": [
    "array_5 = np.array([1,2,3,4,5])\n",
    "print(array_5.dtype)"
   ]
  },
  {
   "cell_type": "code",
   "execution_count": 13,
   "id": "b863d04a-69e2-4b86-9df2-f35932067613",
   "metadata": {},
   "outputs": [
    {
     "name": "stdout",
     "output_type": "stream",
     "text": [
      "float64\n"
     ]
    }
   ],
   "source": [
    "array_6 = np.array([1,2,3,4,5,5.678,-6])\n",
    "print(array_6.dtype)"
   ]
  },
  {
   "cell_type": "markdown",
   "id": "47725d8f-a8ac-42dc-bddc-84c7407c3e16",
   "metadata": {},
   "source": [
    "#### ndarray.astype\n",
    "* This changes the data type of an array."
   ]
  },
  {
   "cell_type": "code",
   "execution_count": 19,
   "id": "2288790c-552c-4a13-b209-096242970541",
   "metadata": {},
   "outputs": [
    {
     "name": "stdout",
     "output_type": "stream",
     "text": [
      "int32\n",
      "[2 3 4]\n",
      "float64\n",
      "[2. 3. 4.]\n"
     ]
    }
   ],
   "source": [
    "array_7 = np.array([2,3,4])\n",
    "print(array_7.dtype)\n",
    "print(array_7)\n",
    "array_7_ = array_7.astype('float64')\n",
    "print(array_7_.dtype)\n",
    "print(array_7_)"
   ]
  },
  {
   "cell_type": "markdown",
   "id": "5ee05d25-24da-4794-b0c8-0e04e270fdf1",
   "metadata": {},
   "source": [
    "## Array Manipulation"
   ]
  },
  {
   "cell_type": "markdown",
   "id": "ebfab0ff-ea54-478d-93f7-0796ed42914d",
   "metadata": {},
   "source": [
    "#### np.transpose(array)"
   ]
  },
  {
   "cell_type": "code",
   "execution_count": 73,
   "id": "7dcdc120-5748-436b-a6c0-50bc2b599161",
   "metadata": {},
   "outputs": [
    {
     "data": {
      "text/plain": [
       "array([[5, 1],\n",
       "       [5, 3],\n",
       "       [4, 5],\n",
       "       [4, 1],\n",
       "       [2, 3],\n",
       "       [2, 2]])"
      ]
     },
     "execution_count": 73,
     "metadata": {},
     "output_type": "execute_result"
    }
   ],
   "source": [
    "array_8 = np.array(np.random.randint(1,6,(6,2)))\n",
    "array_8"
   ]
  },
  {
   "cell_type": "code",
   "execution_count": 74,
   "id": "a4ab3d9e-aab3-4edf-8d75-3d2264e5c009",
   "metadata": {},
   "outputs": [
    {
     "data": {
      "text/plain": [
       "array([[5, 5, 4, 4, 2, 2],\n",
       "       [1, 3, 5, 1, 3, 2]])"
      ]
     },
     "execution_count": 74,
     "metadata": {},
     "output_type": "execute_result"
    }
   ],
   "source": [
    "transpose_arr = np.transpose(array_8)\n",
    "transpose_arr"
   ]
  },
  {
   "cell_type": "markdown",
   "id": "de223d6c-ccdf-4518-90f9-418e914060f2",
   "metadata": {},
   "source": [
    "#### np.reshape(array,shape) \n",
    "- To Change shape of an array"
   ]
  },
  {
   "cell_type": "code",
   "execution_count": 76,
   "id": "d1e1dafa-2545-46ad-9f5f-b6a903eaa6a9",
   "metadata": {},
   "outputs": [
    {
     "data": {
      "text/plain": [
       "array([[2, 3],\n",
       "       [3, 1],\n",
       "       [4, 1],\n",
       "       [2, 4],\n",
       "       [4, 1],\n",
       "       [4, 3]])"
      ]
     },
     "execution_count": 76,
     "metadata": {},
     "output_type": "execute_result"
    }
   ],
   "source": [
    "array_9 = np.array(np.random.randint(1,6,(6,2)))\n",
    "array_9"
   ]
  },
  {
   "cell_type": "code",
   "execution_count": 81,
   "id": "1c2427e5-69bd-47fa-87ef-fed0dc98b058",
   "metadata": {},
   "outputs": [
    {
     "data": {
      "text/plain": [
       "array([[[2, 3],\n",
       "        [3, 1]],\n",
       "\n",
       "       [[4, 1],\n",
       "        [2, 4]],\n",
       "\n",
       "       [[4, 1],\n",
       "        [4, 3]]])"
      ]
     },
     "execution_count": 81,
     "metadata": {},
     "output_type": "execute_result"
    }
   ],
   "source": [
    "new_shape = (3,2,2)\n",
    "reshaped_arr = np.reshape(array_9,new_shape)\n",
    "reshaped_arr"
   ]
  }
 ],
 "metadata": {
  "kernelspec": {
   "display_name": "Python 3 (ipykernel)",
   "language": "python",
   "name": "python3"
  },
  "language_info": {
   "codemirror_mode": {
    "name": "ipython",
    "version": 3
   },
   "file_extension": ".py",
   "mimetype": "text/x-python",
   "name": "python",
   "nbconvert_exporter": "python",
   "pygments_lexer": "ipython3",
   "version": "3.11.7"
  }
 },
 "nbformat": 4,
 "nbformat_minor": 5
}
