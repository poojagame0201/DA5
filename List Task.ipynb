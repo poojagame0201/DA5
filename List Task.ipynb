{
 "cells": [
  {
   "cell_type": "markdown",
   "id": "342fe41b-336d-4878-bd1e-29efa0480ca7",
   "metadata": {},
   "source": [
    "# List"
   ]
  },
  {
   "cell_type": "markdown",
   "id": "6f25aa19-402b-40e6-b5fb-81b4e72a8fb3",
   "metadata": {},
   "source": [
    "A list is a data structure in Python that is a mutable, or changeable, ordered sequence of elements"
   ]
  },
  {
   "cell_type": "code",
   "execution_count": 14,
   "id": "a78e50dc-4515-4976-9ca6-bb30e89b50ca",
   "metadata": {},
   "outputs": [
    {
     "data": {
      "text/plain": [
       "[1, 2, 3, 4, 5]"
      ]
     },
     "execution_count": 14,
     "metadata": {},
     "output_type": "execute_result"
    }
   ],
   "source": [
    "list = [1,2,3,4,5]\n",
    "list"
   ]
  },
  {
   "cell_type": "code",
   "execution_count": 15,
   "id": "7158b555-a5f1-4217-9782-d4defc98ea31",
   "metadata": {},
   "outputs": [
    {
     "data": {
      "text/plain": [
       "['Rose', 'Lily', 'Sunflower', 'Daisy', 'Marigold']"
      ]
     },
     "execution_count": 15,
     "metadata": {},
     "output_type": "execute_result"
    }
   ],
   "source": [
    "Flowers = ['Rose', 'Lily' ,'Sunflower', 'Daisy', 'Marigold']\n",
    "Flowers"
   ]
  },
  {
   "cell_type": "markdown",
   "id": "d6754670-1bdb-4498-a6c4-e22ae33219e7",
   "metadata": {},
   "source": [
    "# Accessing Elements:"
   ]
  },
  {
   "cell_type": "code",
   "execution_count": 22,
   "id": "87d909f7-8e53-4a1f-964d-a28e1707ccad",
   "metadata": {},
   "outputs": [],
   "source": [
    "my_list = ['Rose', 'Lily' ,'Sunflower', 'Daisy', 'Marigold']\n",
    "Flower = my_list[0]\n",
    "Flower1 = my_list[3] \n",
    "last_Flower= my_list[-1]  \n"
   ]
  },
  {
   "cell_type": "code",
   "execution_count": 25,
   "id": "0ced1c99-7a82-4dfb-bbe9-5510f3cf6431",
   "metadata": {},
   "outputs": [
    {
     "name": "stdout",
     "output_type": "stream",
     "text": [
      "['Rose', 'Lily', 'Sunflower', 'Daisy', 'Marigold']\n",
      " Flower = Rose\n",
      " Flower1 = Daisy\n",
      " last_Flower = Marigold\n"
     ]
    }
   ],
   "source": [
    "print(my_list)\n",
    "print(f' Flower = {Flower}')\n",
    "print(f' Flower1 = {Flower1}')\n",
    "print(f' last_Flower = {last_Flower}')"
   ]
  },
  {
   "cell_type": "markdown",
   "id": "c3490949-696a-45ba-b9d3-c2d839b4941c",
   "metadata": {},
   "source": [
    "# Append Function"
   ]
  },
  {
   "cell_type": "markdown",
   "id": "fbe8cd60-0ad8-43a7-86f0-5bbd3a9054aa",
   "metadata": {},
   "source": [
    "Adds an element to the end of the list."
   ]
  },
  {
   "cell_type": "code",
   "execution_count": 49,
   "id": "8cf7f6c8-98a8-4867-b2d1-f82b4c5e6a25",
   "metadata": {},
   "outputs": [
    {
     "name": "stdout",
     "output_type": "stream",
     "text": [
      "my_list = ['Rose', 'Lily', 'Sunflower', 'Daisy', 'Marigold']\n"
     ]
    }
   ],
   "source": [
    "my_list = ['Rose', 'Lily' ,'Sunflower', 'Daisy', 'Marigold']\n",
    "print(f'my_list = {my_list}')"
   ]
  },
  {
   "cell_type": "code",
   "execution_count": 50,
   "id": "72b50c2a-48e7-4c34-b66a-a4292aa4ba7e",
   "metadata": {},
   "outputs": [
    {
     "data": {
      "text/plain": [
       "['Rose', 'Lily', 'Sunflower', 'Daisy', 'Marigold']"
      ]
     },
     "execution_count": 50,
     "metadata": {},
     "output_type": "execute_result"
    }
   ],
   "source": [
    "my_list"
   ]
  },
  {
   "cell_type": "code",
   "execution_count": 51,
   "id": "d7cdafc5-4ce7-416f-9e4f-61dc6502944b",
   "metadata": {},
   "outputs": [
    {
     "data": {
      "text/plain": [
       "['Rose', 'Lily', 'Sunflower', 'Daisy', 'Marigold', 'Orchid']"
      ]
     },
     "execution_count": 51,
     "metadata": {},
     "output_type": "execute_result"
    }
   ],
   "source": [
    "my_list.append('Orchid')\n",
    "my_list"
   ]
  },
  {
   "cell_type": "markdown",
   "id": "23855071-29b7-4f2f-9812-8d6bc2a15356",
   "metadata": {},
   "source": [
    "# Insert Function"
   ]
  },
  {
   "cell_type": "markdown",
   "id": "bd069ff4-a10c-4e17-a65c-f3d272e5bafb",
   "metadata": {},
   "source": [
    "Inserts an element x at a specific index "
   ]
  },
  {
   "cell_type": "code",
   "execution_count": 53,
   "id": "06d8987c-8879-4ed6-8cf9-9da05a27a5c3",
   "metadata": {},
   "outputs": [
    {
     "name": "stdout",
     "output_type": "stream",
     "text": [
      "my_list = ['Rose', 'Lily', 'Sunflower', 'Daisy', 'Marigold']\n"
     ]
    }
   ],
   "source": [
    "my_list = ['Rose', 'Lily' ,'Sunflower', 'Daisy', 'Marigold']\n",
    "print(f'my_list = {my_list}')"
   ]
  },
  {
   "cell_type": "code",
   "execution_count": 54,
   "id": "ccd83a16-44e3-4221-957d-8a3dac792abf",
   "metadata": {},
   "outputs": [
    {
     "name": "stdout",
     "output_type": "stream",
     "text": [
      "my_list = ['Orchid', 'Rose', 'Lily', 'Sunflower', 'Daisy', 'Marigold']\n"
     ]
    }
   ],
   "source": [
    "my_list.insert(0, 'Orchid')\n",
    "print(f'my_list = {my_list}')"
   ]
  },
  {
   "cell_type": "markdown",
   "id": "b37646d0-2cba-401e-b41c-0698c680dff5",
   "metadata": {},
   "source": [
    "# Extend Function"
   ]
  },
  {
   "cell_type": "markdown",
   "id": "a683d6eb-f213-4a9b-af00-a64415b98e8c",
   "metadata": {},
   "source": [
    "Extends the list by appending all elements from the iterable."
   ]
  },
  {
   "cell_type": "code",
   "execution_count": 58,
   "id": "ef0cbe4f-9138-49cf-a28e-fb265d89e0a2",
   "metadata": {},
   "outputs": [
    {
     "name": "stdout",
     "output_type": "stream",
     "text": [
      "my_list = ['Rose', 'Lily', 'Sunflower', 'Daisy', 'Marigold']\n"
     ]
    }
   ],
   "source": [
    "my_list = ['Rose', 'Lily' ,'Sunflower', 'Daisy', 'Marigold']\n",
    "print(f'my_list = {my_list}')"
   ]
  },
  {
   "cell_type": "code",
   "execution_count": 60,
   "id": "7d6e82bb-7cc8-48ea-b539-f00244e83a8c",
   "metadata": {},
   "outputs": [
    {
     "name": "stdout",
     "output_type": "stream",
     "text": [
      "my_list = ['Rose', 'Lily', 'Sunflower', 'Daisy', 'Marigold', 'Hibiscus', 'Bluebells']\n"
     ]
    }
   ],
   "source": [
    "my_list.extend(['Hibiscus','Bluebells'])\n",
    "print(f'my_list = {my_list}')"
   ]
  },
  {
   "cell_type": "markdown",
   "id": "871f8f2e-8217-48a6-ba93-859fc5aad8ef",
   "metadata": {},
   "source": [
    "# Remove Function"
   ]
  },
  {
   "cell_type": "markdown",
   "id": "9d0b5be1-c90a-4c6c-b5ba-51f6cfb251dc",
   "metadata": {},
   "source": [
    "The remove function method removes a given element from the list."
   ]
  },
  {
   "cell_type": "code",
   "execution_count": 61,
   "id": "f43f06de-074a-4f8a-b1d4-cb4003165c91",
   "metadata": {},
   "outputs": [
    {
     "name": "stdout",
     "output_type": "stream",
     "text": [
      "my_list = ['Rose', 'Lily', 'Sunflower', 'Daisy', 'Marigold']\n"
     ]
    }
   ],
   "source": [
    "my_list = ['Rose', 'Lily' ,'Sunflower', 'Daisy', 'Marigold']\n",
    "print(f'my_list = {my_list}')"
   ]
  },
  {
   "cell_type": "code",
   "execution_count": 62,
   "id": "174c2b99-531c-49aa-bb65-de0f53016c2d",
   "metadata": {},
   "outputs": [
    {
     "name": "stdout",
     "output_type": "stream",
     "text": [
      "my_list = ['Rose', 'Lily', 'Sunflower', 'Marigold']\n"
     ]
    }
   ],
   "source": [
    "my_list.remove('Daisy')\n",
    "print(f'my_list = {my_list}')"
   ]
  },
  {
   "cell_type": "markdown",
   "id": "b21114c7-831a-42f3-ac75-5b94c28d4564",
   "metadata": {},
   "source": [
    "# Pop Function"
   ]
  },
  {
   "cell_type": "markdown",
   "id": "9999203c-4cd9-479d-a02f-914681a8e44e",
   "metadata": {},
   "source": [
    "Pop function removes element at a specific index from the list."
   ]
  },
  {
   "cell_type": "code",
   "execution_count": 68,
   "id": "1b3014b4-95ab-42f0-8f0b-0f3f8ec758c1",
   "metadata": {},
   "outputs": [
    {
     "name": "stdout",
     "output_type": "stream",
     "text": [
      "my_list = ['Rose', 'Lily', 'Sunflower', 'Daisy', 'Marigold']\n"
     ]
    }
   ],
   "source": [
    "my_list = ['Rose', 'Lily' ,'Sunflower', 'Daisy', 'Marigold']\n",
    "print(f'my_list = {my_list}')"
   ]
  },
  {
   "cell_type": "code",
   "execution_count": 69,
   "id": "21d141ee-7268-43bd-ab68-94642c4a451e",
   "metadata": {},
   "outputs": [
    {
     "name": "stdout",
     "output_type": "stream",
     "text": [
      "removed_element = Sunflower\n"
     ]
    }
   ],
   "source": [
    "removed_element = my_list.pop(2)\n",
    "print(f'removed_element = {removed_element}')\n"
   ]
  },
  {
   "cell_type": "code",
   "execution_count": 70,
   "id": "0457e400-53aa-4cc3-b8e3-ce6565204638",
   "metadata": {},
   "outputs": [
    {
     "name": "stdout",
     "output_type": "stream",
     "text": [
      "my_list = ['Rose', 'Lily', 'Daisy', 'Marigold']\n"
     ]
    }
   ],
   "source": [
    "print(f'my_list = {my_list}')"
   ]
  },
  {
   "cell_type": "markdown",
   "id": "83150d50-b703-4105-8ec6-ed157579799b",
   "metadata": {},
   "source": [
    "# Clear Function"
   ]
  },
  {
   "cell_type": "markdown",
   "id": "5ed39b10-6167-4d24-8930-d3923b44bc34",
   "metadata": {},
   "source": [
    "Clear function method removes all items from the list making it an empty list."
   ]
  },
  {
   "cell_type": "code",
   "execution_count": 74,
   "id": "bf6317bc-bd36-4dd7-9a34-d28901b8935b",
   "metadata": {},
   "outputs": [
    {
     "name": "stdout",
     "output_type": "stream",
     "text": [
      "my_list = ['Rose', 'Lily', 'Sunflower', 'Daisy', 'Marigold']\n"
     ]
    }
   ],
   "source": [
    "my_list = ['Rose', 'Lily' ,'Sunflower', 'Daisy', 'Marigold']\n",
    "print(f'my_list = {my_list}')"
   ]
  },
  {
   "cell_type": "code",
   "execution_count": 75,
   "id": "5ca5d854-885a-486d-9f94-27ace91567d3",
   "metadata": {},
   "outputs": [
    {
     "name": "stdout",
     "output_type": "stream",
     "text": [
      "my_list = []\n"
     ]
    }
   ],
   "source": [
    "my_list.clear()\n",
    "print(f'my_list = {my_list}')"
   ]
  },
  {
   "cell_type": "markdown",
   "id": "3f528637-17ae-491d-8dc9-9f939ca49a41",
   "metadata": {},
   "source": [
    "# Count Function"
   ]
  },
  {
   "cell_type": "markdown",
   "id": "45e45632-2d1c-4804-9e0d-bcfd67ac6818",
   "metadata": {},
   "source": [
    "This function method returns the count of the occurrences of a given element in a list."
   ]
  },
  {
   "cell_type": "code",
   "execution_count": 83,
   "id": "b3ae55cd-0d3d-43a8-826d-5b5b83d8f625",
   "metadata": {},
   "outputs": [
    {
     "name": "stdout",
     "output_type": "stream",
     "text": [
      "my_list = ['Rose', 'Lily', 'Sunflower', 'Rose', 'Daisy', 'Marigold', 'Rose']\n"
     ]
    }
   ],
   "source": [
    "my_list = ['Rose', 'Lily' ,'Sunflower','Rose', 'Daisy', 'Marigold','Rose']\n",
    "print(f'my_list = {my_list}')"
   ]
  },
  {
   "cell_type": "code",
   "execution_count": 84,
   "id": "29b34ae7-f83e-4f13-be0c-c555845a5679",
   "metadata": {},
   "outputs": [
    {
     "name": "stdout",
     "output_type": "stream",
     "text": [
      "Ocurrence = 1\n"
     ]
    }
   ],
   "source": [
    "Ocurrence = my_list.count('Lily')\n",
    "print(f'Ocurrence = {Ocurrence}')"
   ]
  },
  {
   "cell_type": "code",
   "execution_count": 85,
   "id": "357c1f0e-ba81-430c-920a-191c30c5437b",
   "metadata": {},
   "outputs": [
    {
     "name": "stdout",
     "output_type": "stream",
     "text": [
      "Ocurrence = 3\n"
     ]
    }
   ],
   "source": [
    "Ocurrence = my_list.count('Rose')\n",
    "print(f'Ocurrence = {Ocurrence}')"
   ]
  },
  {
   "cell_type": "code",
   "execution_count": 86,
   "id": "bfe9ae0a-05ab-4a0b-91dd-66b46f7263a3",
   "metadata": {},
   "outputs": [
    {
     "name": "stdout",
     "output_type": "stream",
     "text": [
      "Ocurrence = 0\n"
     ]
    }
   ],
   "source": [
    "Ocurrence = my_list.count('Bluebells')\n",
    "print(f'Ocurrence = {Ocurrence}')"
   ]
  },
  {
   "cell_type": "markdown",
   "id": "614fc1ea-64cd-4b1d-883b-48a05b06ebe0",
   "metadata": {},
   "source": [
    "# Sort Function"
   ]
  },
  {
   "cell_type": "markdown",
   "id": "5871327f-d6fa-4b96-aaf6-7020ff0fd28a",
   "metadata": {},
   "source": [
    "Sort the list in ascending order"
   ]
  },
  {
   "cell_type": "code",
   "execution_count": 95,
   "id": "d30633eb-bc98-4511-8768-cf302c67fbd1",
   "metadata": {},
   "outputs": [
    {
     "name": "stdout",
     "output_type": "stream",
     "text": [
      "my_list = ['Rose', 'Lily', 'Sunflower', 'Daisy', 'Marigold']\n"
     ]
    }
   ],
   "source": [
    "my_list = ['Rose', 'Lily' ,'Sunflower', 'Daisy', 'Marigold']\n",
    "print(f'my_list = {my_list}')"
   ]
  },
  {
   "cell_type": "code",
   "execution_count": 113,
   "id": "04c68e68-eaf6-4d16-9b52-9aba43ac4bba",
   "metadata": {},
   "outputs": [
    {
     "name": "stdout",
     "output_type": "stream",
     "text": [
      "sorted_list = ['Daisy', 'Lily', 'Marigold', 'Rose', 'Sunflower']\n"
     ]
    }
   ],
   "source": [
    "my_list.sort()\n",
    "print(f'sorted_list = {my_list}')"
   ]
  },
  {
   "cell_type": "code",
   "execution_count": 112,
   "id": "4c3f7290-1e08-4bc0-ad42-a6cb2b4e6052",
   "metadata": {},
   "outputs": [
    {
     "name": "stdout",
     "output_type": "stream",
     "text": [
      "num_list = [10, 20, 8, 45, 7, 66, 1, 2, -2, 0, -18]\n"
     ]
    }
   ],
   "source": [
    "num_list = [10,20,8,45,7,66,1,2,-2,0,-18]\n",
    "print(f'num_list = {num_list}')"
   ]
  },
  {
   "cell_type": "code",
   "execution_count": 110,
   "id": "0b3ebdea-06f9-4e81-9339-71b511439108",
   "metadata": {},
   "outputs": [
    {
     "name": "stdout",
     "output_type": "stream",
     "text": [
      "sorted_list = [-18, -2, 0, 1, 2, 7, 8, 10, 20, 45, 66]\n"
     ]
    }
   ],
   "source": [
    "num_list.sort()\n",
    "print(f'sorted_list = {num_list}')"
   ]
  },
  {
   "cell_type": "markdown",
   "id": "47134518-6b62-4471-a16d-01d8457b64b1",
   "metadata": {},
   "source": [
    "# Reverse Function"
   ]
  },
  {
   "cell_type": "markdown",
   "id": "69289910-c805-4add-8f83-a54f49cb8a4b",
   "metadata": {},
   "source": [
    "Reverse the order of elements"
   ]
  },
  {
   "cell_type": "code",
   "execution_count": 105,
   "id": "4c014b63-fc85-4e65-94f2-13e97c1051d7",
   "metadata": {},
   "outputs": [
    {
     "name": "stdout",
     "output_type": "stream",
     "text": [
      "num_list = [10, 20, 8, 45, 7, 66, 1, 2, -2, 0, -18]\n"
     ]
    }
   ],
   "source": [
    "num_list = [10,20,8,45,7,66,1,2,-2,0,-18]\n",
    "print(f'num_list = {num_list}')"
   ]
  },
  {
   "cell_type": "code",
   "execution_count": 109,
   "id": "d8858e18-4fae-4083-abe6-bec5c5082f63",
   "metadata": {},
   "outputs": [
    {
     "name": "stdout",
     "output_type": "stream",
     "text": [
      "reversed_list =[-18, 0, -2, 2, 1, 66, 7, 45, 8, 20, 10]\n"
     ]
    }
   ],
   "source": [
    "reversed_list = num_list.reverse()\n",
    "print(f'reversed_list ={num_list}')"
   ]
  },
  {
   "cell_type": "markdown",
   "id": "94f3eb5a-36b3-4794-b7a5-ebd5acf58b72",
   "metadata": {},
   "source": [
    "# Min Function"
   ]
  },
  {
   "cell_type": "markdown",
   "id": "96fa597e-42f9-4b40-956b-b1faf860d121",
   "metadata": {},
   "source": [
    "Min function returns the smallest element."
   ]
  },
  {
   "cell_type": "code",
   "execution_count": 115,
   "id": "cc7568c0-d1f2-4fd2-bd29-23db07cab27a",
   "metadata": {},
   "outputs": [
    {
     "name": "stdout",
     "output_type": "stream",
     "text": [
      "num_list = [10, 20, 8, 45, 7, 66, 1, 2, -2, 0, -18]\n"
     ]
    }
   ],
   "source": [
    "num_list = [10,20,8,45,7,66,1,2,-2,0,-18]\n",
    "print(f'num_list = {num_list}')"
   ]
  },
  {
   "cell_type": "code",
   "execution_count": 123,
   "id": "ff4a209c-4c67-481f-b2fc-defbc1306c8e",
   "metadata": {},
   "outputs": [
    {
     "name": "stdout",
     "output_type": "stream",
     "text": [
      "min_no = -18\n"
     ]
    }
   ],
   "source": [
    "min_no = min(num_list)\n",
    "print(f'min_no = {min_no}')"
   ]
  },
  {
   "cell_type": "markdown",
   "id": "df738adb-d599-4b2d-9e2e-282b78e50568",
   "metadata": {},
   "source": [
    "# Max Function"
   ]
  },
  {
   "cell_type": "markdown",
   "id": "934673f8-f5e2-44db-bf7c-51c92f47885e",
   "metadata": {},
   "source": [
    "Max function return the largest element."
   ]
  },
  {
   "cell_type": "code",
   "execution_count": 124,
   "id": "e7755f9b-4af9-425a-8cd4-e221f8ab9b49",
   "metadata": {},
   "outputs": [
    {
     "name": "stdout",
     "output_type": "stream",
     "text": [
      "num_list = [10, 20, 8, 45, 7, 66, 1, 2, -2, 0, -18]\n"
     ]
    }
   ],
   "source": [
    "num_list = [10,20,8,45,7,66,1,2,-2,0,-18]\n",
    "print(f'num_list = {num_list}')"
   ]
  },
  {
   "cell_type": "code",
   "execution_count": 125,
   "id": "1c51615f-8b63-4015-af77-4d5d4cc54ef0",
   "metadata": {},
   "outputs": [
    {
     "name": "stdout",
     "output_type": "stream",
     "text": [
      "max_no = 66\n"
     ]
    }
   ],
   "source": [
    "max_no = max(num_list)\n",
    "print(f'max_no = {max_no}')"
   ]
  },
  {
   "cell_type": "markdown",
   "id": "6e688a3a",
   "metadata": {},
   "source": [
    "# Slicing"
   ]
  },
  {
   "cell_type": "markdown",
   "id": "4f907358",
   "metadata": {},
   "source": [
    "Extract a sublist using colon (:) syntax"
   ]
  },
  {
   "cell_type": "code",
   "execution_count": 10,
   "id": "46c7206b",
   "metadata": {},
   "outputs": [
    {
     "name": "stdout",
     "output_type": "stream",
     "text": [
      "['Rose', 'Lily', 'Sunflower', 'Daisy', 'Marigold']\n",
      "['Rose', 'Lily']\n",
      "['Rose', 'Lily', 'Sunflower', 'Daisy']\n",
      "['Marigold', 'Daisy', 'Sunflower', 'Lily', 'Rose']\n"
     ]
    }
   ],
   "source": [
    "Flowers = ['Rose', 'Lily' ,'Sunflower', 'Daisy', 'Marigold']\n",
    "first_two = Flowers[0:2]  \n",
    "everything_except_last = Flowers[:-1]  \n",
    "flowers = Flowers[::-1]  \n",
    "print(Flowers)\n",
    "print(first_two)\n",
    "print(everything_except_last)\n",
    "print(flowers)"
   ]
  }
 ],
 "metadata": {
  "kernelspec": {
   "display_name": "Python 3 (ipykernel)",
   "language": "python",
   "name": "python3"
  },
  "language_info": {
   "codemirror_mode": {
    "name": "ipython",
    "version": 3
   },
   "file_extension": ".py",
   "mimetype": "text/x-python",
   "name": "python",
   "nbconvert_exporter": "python",
   "pygments_lexer": "ipython3",
   "version": "3.12.2"
  }
 },
 "nbformat": 4,
 "nbformat_minor": 5
}
