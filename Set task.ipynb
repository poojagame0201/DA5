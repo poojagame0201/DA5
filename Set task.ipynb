{
 "cells": [
  {
   "cell_type": "markdown",
   "id": "064537a9-df13-43f0-a5f6-7c288379bc4e",
   "metadata": {},
   "source": [
    "# Sets"
   ]
  },
  {
   "cell_type": "markdown",
   "id": "991dea45-a311-4937-9a1e-c818a6078648",
   "metadata": {},
   "source": [
    "Sets are used to store multiple items in a single variable.\n",
    "A set is a collection which is unordered and unchangeable."
   ]
  },
  {
   "cell_type": "code",
   "execution_count": 1,
   "id": "929721ad-70b6-4349-bd33-3f7267539f81",
   "metadata": {},
   "outputs": [],
   "source": [
    "# Creating an empty set \n",
    "empty_set = set()"
   ]
  },
  {
   "cell_type": "code",
   "execution_count": 2,
   "id": "02838f2a-958d-4d66-96e7-0c16def72472",
   "metadata": {},
   "outputs": [
    {
     "data": {
      "text/plain": [
       "set"
      ]
     },
     "execution_count": 2,
     "metadata": {},
     "output_type": "execute_result"
    }
   ],
   "source": [
    "type(empty_set)"
   ]
  },
  {
   "cell_type": "code",
   "execution_count": 3,
   "id": "83d2e660-f7d7-401c-aff3-e1e94197a599",
   "metadata": {},
   "outputs": [],
   "source": [
    "# Creating a non-empty set within curly braces\n",
    "non_empty_set = {1,6,4,'abc'}"
   ]
  },
  {
   "cell_type": "code",
   "execution_count": 4,
   "id": "4f794054-9b96-48d6-9fd6-6e33b906e109",
   "metadata": {},
   "outputs": [
    {
     "data": {
      "text/plain": [
       "set"
      ]
     },
     "execution_count": 4,
     "metadata": {},
     "output_type": "execute_result"
    }
   ],
   "source": [
    "type(non_empty_set)"
   ]
  },
  {
   "cell_type": "markdown",
   "id": "e18a6b8f-8338-4069-a37b-f5217d1dbe3d",
   "metadata": {},
   "source": [
    "# Functions of Sets"
   ]
  },
  {
   "cell_type": "markdown",
   "id": "e3228f0b-3353-40f1-a92a-5d906cdc2662",
   "metadata": {},
   "source": [
    "# Add()"
   ]
  },
  {
   "cell_type": "markdown",
   "id": "95dde6b3-7db1-4a9e-a165-ae54172b30b9",
   "metadata": {},
   "source": [
    "This method takes the element to be added as an argument"
   ]
  },
  {
   "cell_type": "code",
   "execution_count": 5,
   "id": "3195e87d-0a1b-477d-93af-d9d7e38c02eb",
   "metadata": {},
   "outputs": [],
   "source": [
    "my_set = set()\n",
    "my_set.add('a')"
   ]
  },
  {
   "cell_type": "code",
   "execution_count": 6,
   "id": "674a0f83-f56c-4d64-ac88-f25fbff865be",
   "metadata": {},
   "outputs": [
    {
     "data": {
      "text/plain": [
       "{'a'}"
      ]
     },
     "execution_count": 6,
     "metadata": {},
     "output_type": "execute_result"
    }
   ],
   "source": [
    "my_set"
   ]
  },
  {
   "cell_type": "code",
   "execution_count": 7,
   "id": "7686cb8a-2cfb-4318-b6db-321cdebbe5bb",
   "metadata": {},
   "outputs": [],
   "source": [
    "# Adding different element\n",
    "my_set.add(2)"
   ]
  },
  {
   "cell_type": "code",
   "execution_count": 8,
   "id": "5274c7e1-8139-4561-aa28-000cebdde685",
   "metadata": {},
   "outputs": [
    {
     "data": {
      "text/plain": [
       "{2, 'a'}"
      ]
     },
     "execution_count": 8,
     "metadata": {},
     "output_type": "execute_result"
    }
   ],
   "source": [
    "my_set"
   ]
  },
  {
   "cell_type": "markdown",
   "id": "cb1258a0-7623-4589-a108-b2fdcb5313a8",
   "metadata": {},
   "source": [
    "# Update()"
   ]
  },
  {
   "cell_type": "markdown",
   "id": "4e565721-34dc-4d74-81a4-919a819b15f1",
   "metadata": {},
   "source": [
    "This method helps to add multiple elements to a set"
   ]
  },
  {
   "cell_type": "code",
   "execution_count": 11,
   "id": "2b87d3c0-7ff0-4db8-9a79-5c4bbab66793",
   "metadata": {},
   "outputs": [],
   "source": [
    "my_set = {5,7,9,3}"
   ]
  },
  {
   "cell_type": "code",
   "execution_count": 12,
   "id": "e3e24c29-31c3-4657-91aa-ec7757e75b46",
   "metadata": {},
   "outputs": [
    {
     "name": "stdout",
     "output_type": "stream",
     "text": [
      "{2, 3, 4, 5, 7, 9}\n"
     ]
    }
   ],
   "source": [
    "# adding multiple elements\n",
    "my_set.update([2, 3, 4])\n",
    "print(my_set)"
   ]
  },
  {
   "cell_type": "markdown",
   "id": "1614e907-14f6-4701-8aa8-8645476a62f5",
   "metadata": {},
   "source": [
    "# Remove()"
   ]
  },
  {
   "cell_type": "markdown",
   "id": "1c76daf2-fa56-416a-94d4-a05fcad2e401",
   "metadata": {},
   "source": [
    "Use remove function to remove an item/element from the set."
   ]
  },
  {
   "cell_type": "code",
   "execution_count": 14,
   "id": "fae60464-cb5e-4da5-b512-2d2a105217f3",
   "metadata": {},
   "outputs": [],
   "source": [
    "my_set = {1,5,6,73,2}"
   ]
  },
  {
   "cell_type": "code",
   "execution_count": 15,
   "id": "96573a7b-01f4-401e-9d03-f86a5190f0ea",
   "metadata": {},
   "outputs": [
    {
     "data": {
      "text/plain": [
       "{1, 2, 5, 6, 73}"
      ]
     },
     "execution_count": 15,
     "metadata": {},
     "output_type": "execute_result"
    }
   ],
   "source": [
    "my_set"
   ]
  },
  {
   "cell_type": "code",
   "execution_count": 16,
   "id": "f6ade9a9-1a77-4d33-bba7-4a629fb9e93f",
   "metadata": {},
   "outputs": [],
   "source": [
    "my_set.remove(5)"
   ]
  },
  {
   "cell_type": "code",
   "execution_count": 17,
   "id": "b23a3dc3-d967-421c-b73e-ec1c4cbbee34",
   "metadata": {},
   "outputs": [
    {
     "data": {
      "text/plain": [
       "{1, 2, 6, 73}"
      ]
     },
     "execution_count": 17,
     "metadata": {},
     "output_type": "execute_result"
    }
   ],
   "source": [
    "my_set"
   ]
  },
  {
   "cell_type": "markdown",
   "id": "419ee13c-8599-4a4a-8030-6a72effe9088",
   "metadata": {},
   "source": [
    "# Union()"
   ]
  },
  {
   "cell_type": "markdown",
   "id": "6afad8d5-87c9-4f25-844e-a516b37d4f92",
   "metadata": {},
   "source": [
    "This method returns the union of two sets"
   ]
  },
  {
   "cell_type": "code",
   "execution_count": 19,
   "id": "b51b9a19-9838-40e5-bff9-f13d392b7547",
   "metadata": {},
   "outputs": [],
   "source": [
    "# Initialize sets A and B\n",
    "A = {1, 2, 3, 4, 5}\n",
    "B = {4, 5, 6, 7, 8}"
   ]
  },
  {
   "cell_type": "code",
   "execution_count": 20,
   "id": "009634cb-ea17-415d-abe4-36276c470f33",
   "metadata": {},
   "outputs": [
    {
     "data": {
      "text/plain": [
       "{1, 2, 3, 4, 5, 6, 7, 8}"
      ]
     },
     "execution_count": 20,
     "metadata": {},
     "output_type": "execute_result"
    }
   ],
   "source": [
    "A.union(B)\n"
   ]
  },
  {
   "cell_type": "code",
   "execution_count": 21,
   "id": "955a0411-55c8-45d2-9164-c1b5baee3e62",
   "metadata": {},
   "outputs": [
    {
     "data": {
      "text/plain": [
       "{1, 2, 3, 4, 5, 6, 7, 8}"
      ]
     },
     "execution_count": 21,
     "metadata": {},
     "output_type": "execute_result"
    }
   ],
   "source": [
    "# Also denoted by the operator |\n",
    "A | B"
   ]
  },
  {
   "cell_type": "markdown",
   "id": "e6bb1620-e604-4a23-af34-7ba1dac4abbe",
   "metadata": {},
   "source": [
    "# Intersection()"
   ]
  },
  {
   "cell_type": "markdown",
   "id": "9d42aed0-66a8-4f89-a7be-1c52697ee689",
   "metadata": {},
   "source": [
    "It returns the intersection of two sets"
   ]
  },
  {
   "cell_type": "code",
   "execution_count": 22,
   "id": "4414e67a-f82c-4c86-9705-4303de5fb44d",
   "metadata": {},
   "outputs": [],
   "source": [
    "A = {1, 2, 3, 4, 5}\n",
    "B = {4, 5, 6, 7, 8}"
   ]
  },
  {
   "cell_type": "code",
   "execution_count": 23,
   "id": "1a4ba0ff-c3a7-4b6f-b1e4-df3436b24d06",
   "metadata": {},
   "outputs": [
    {
     "data": {
      "text/plain": [
       "{4, 5}"
      ]
     },
     "execution_count": 23,
     "metadata": {},
     "output_type": "execute_result"
    }
   ],
   "source": [
    "A.intersection(B)"
   ]
  },
  {
   "cell_type": "code",
   "execution_count": 24,
   "id": "cc0ca80b-59f3-4cf4-b3d5-8af76c997ab1",
   "metadata": {},
   "outputs": [
    {
     "data": {
      "text/plain": [
       "{4, 5}"
      ]
     },
     "execution_count": 24,
     "metadata": {},
     "output_type": "execute_result"
    }
   ],
   "source": [
    "# Also denoted by the operator &\n",
    "A & B"
   ]
  },
  {
   "cell_type": "markdown",
   "id": "4d020fc9-315d-43e8-9329-cb1ca9683494",
   "metadata": {},
   "source": [
    "# Difference()"
   ]
  },
  {
   "cell_type": "markdown",
   "id": "5d217ed3-47f5-4801-941b-d060c46331fb",
   "metadata": {},
   "source": [
    "It Returns a new set with elements that are in the set but not in the others.\n"
   ]
  },
  {
   "cell_type": "code",
   "execution_count": 25,
   "id": "50b9c65b-1d8c-43b5-8bf6-e90f08759b60",
   "metadata": {},
   "outputs": [],
   "source": [
    "A = {1, 2, 3, 4, 5}\n",
    "B = {4, 5, 6, 7, 8}"
   ]
  },
  {
   "cell_type": "code",
   "execution_count": 26,
   "id": "c8ed88d9-a3b1-4a14-9531-cc7de194881a",
   "metadata": {},
   "outputs": [
    {
     "data": {
      "text/plain": [
       "{1, 2, 3}"
      ]
     },
     "execution_count": 26,
     "metadata": {},
     "output_type": "execute_result"
    }
   ],
   "source": [
    "A.difference(B)"
   ]
  },
  {
   "cell_type": "code",
   "execution_count": 27,
   "id": "59782ae4-5290-493e-993d-150d6f3b7970",
   "metadata": {},
   "outputs": [
    {
     "data": {
      "text/plain": [
       "{1, 2, 3}"
      ]
     },
     "execution_count": 27,
     "metadata": {},
     "output_type": "execute_result"
    }
   ],
   "source": [
    "# Also denoted by the operator -\n",
    "A - B"
   ]
  },
  {
   "cell_type": "code",
   "execution_count": 28,
   "id": "0f56c4b0-3c31-4b01-8614-aac90a1f6dac",
   "metadata": {},
   "outputs": [
    {
     "data": {
      "text/plain": [
       "{6, 7, 8}"
      ]
     },
     "execution_count": 28,
     "metadata": {},
     "output_type": "execute_result"
    }
   ],
   "source": [
    "B.difference(A)"
   ]
  },
  {
   "cell_type": "code",
   "execution_count": null,
   "id": "f12d4cbf-8cce-4828-90b1-6f9e6280d924",
   "metadata": {},
   "outputs": [],
   "source": []
  }
 ],
 "metadata": {
  "kernelspec": {
   "display_name": "Python 3 (ipykernel)",
   "language": "python",
   "name": "python3"
  },
  "language_info": {
   "codemirror_mode": {
    "name": "ipython",
    "version": 3
   },
   "file_extension": ".py",
   "mimetype": "text/x-python",
   "name": "python",
   "nbconvert_exporter": "python",
   "pygments_lexer": "ipython3",
   "version": "3.12.2"
  }
 },
 "nbformat": 4,
 "nbformat_minor": 5
}
