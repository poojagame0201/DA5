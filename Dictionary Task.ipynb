{
 "cells": [
  {
   "cell_type": "markdown",
   "id": "f4c8881a-6837-4b22-adea-ed2aeb6a013a",
   "metadata": {},
   "source": [
    "# Dictionary "
   ]
  },
  {
   "cell_type": "markdown",
   "id": "2a9ae098-fb9b-4b7a-86ad-d38031e185de",
   "metadata": {},
   "source": [
    "A dictionary object is constructed using curly braces {key1:value1,key2:value2,key3:value3}"
   ]
  },
  {
   "cell_type": "code",
   "execution_count": 1,
   "id": "82f756c1-62e8-4bed-8b26-cf983110e6f9",
   "metadata": {},
   "outputs": [],
   "source": [
    "student = {'name':'Sam','result':'Pass','year':'2021'}"
   ]
  },
  {
   "cell_type": "code",
   "execution_count": 5,
   "id": "9a34583f-9c12-49c9-8bc1-1f64fdbd7e4b",
   "metadata": {},
   "outputs": [
    {
     "data": {
      "text/plain": [
       "'Pass'"
      ]
     },
     "execution_count": 5,
     "metadata": {},
     "output_type": "execute_result"
    }
   ],
   "source": [
    "# Calling value by their key\n",
    "student['result']"
   ]
  },
  {
   "cell_type": "code",
   "execution_count": 6,
   "id": "9930bf57-3a9c-4f5b-a60b-0350a9fdeb89",
   "metadata": {},
   "outputs": [
    {
     "data": {
      "text/plain": [
       "dict"
      ]
     },
     "execution_count": 6,
     "metadata": {},
     "output_type": "execute_result"
    }
   ],
   "source": [
    "type(student)"
   ]
  },
  {
   "cell_type": "code",
   "execution_count": 7,
   "id": "089fdd94-0433-4531-b263-2748aca0782d",
   "metadata": {},
   "outputs": [
    {
     "data": {
      "text/plain": [
       "'Sam'"
      ]
     },
     "execution_count": 7,
     "metadata": {},
     "output_type": "execute_result"
    }
   ],
   "source": [
    "student['name']"
   ]
  },
  {
   "cell_type": "markdown",
   "id": "f426ed64-1a09-46a9-b720-c323c80c0db0",
   "metadata": {},
   "source": [
    "# Dictionary Methods"
   ]
  },
  {
   "cell_type": "markdown",
   "id": "90e02e31-1427-4df4-8217-24282d8e626b",
   "metadata": {},
   "source": [
    "# Keys()"
   ]
  },
  {
   "cell_type": "markdown",
   "id": "6d6cc575-cb95-4f34-8e58-ac43ffc90144",
   "metadata": {},
   "source": [
    "This method returns the list of keys in the dictionary object"
   ]
  },
  {
   "cell_type": "code",
   "execution_count": 19,
   "id": "1c7bcaa3-e0fc-4554-a472-717bafbcd37d",
   "metadata": {},
   "outputs": [],
   "source": [
    "student = {'name':'Sam','result':'Pass','year':'2021'}"
   ]
  },
  {
   "cell_type": "code",
   "execution_count": 9,
   "id": "49ecd3fc-0751-4322-a39b-af0aa5355d2f",
   "metadata": {},
   "outputs": [
    {
     "data": {
      "text/plain": [
       "dict_keys(['name', 'result', 'year'])"
      ]
     },
     "execution_count": 9,
     "metadata": {},
     "output_type": "execute_result"
    }
   ],
   "source": [
    "student.keys()"
   ]
  },
  {
   "cell_type": "code",
   "execution_count": 10,
   "id": "b2d664c3-99be-41e8-8a30-649830fe3283",
   "metadata": {},
   "outputs": [
    {
     "data": {
      "text/plain": [
       "['name', 'result', 'year']"
      ]
     },
     "execution_count": 10,
     "metadata": {},
     "output_type": "execute_result"
    }
   ],
   "source": [
    "list(student.keys())"
   ]
  },
  {
   "cell_type": "markdown",
   "id": "9083c5df-9684-46d2-8494-aed948c481b0",
   "metadata": {},
   "source": [
    "# Values()"
   ]
  },
  {
   "cell_type": "markdown",
   "id": "bb597510-6c7b-4c8e-80e1-cc413b20cf84",
   "metadata": {},
   "source": [
    "This method returns the list of values in the dictionary object"
   ]
  },
  {
   "cell_type": "code",
   "execution_count": null,
   "id": "0704463b-be04-4b17-888b-d6fad301313a",
   "metadata": {},
   "outputs": [],
   "source": [
    "student = {'name':'Sam','result':'Pass','year':'2021'}"
   ]
  },
  {
   "cell_type": "code",
   "execution_count": 11,
   "id": "a6f5d17f-19a3-4503-9145-41db2349f478",
   "metadata": {},
   "outputs": [
    {
     "name": "stdout",
     "output_type": "stream",
     "text": [
      "{'name': 'Sam', 'result': 'Pass', 'year': '2021'}\n"
     ]
    }
   ],
   "source": [
    "print(student)"
   ]
  },
  {
   "cell_type": "code",
   "execution_count": 12,
   "id": "88b7d2f3-f36d-42b2-ad09-42abc1633d91",
   "metadata": {},
   "outputs": [
    {
     "data": {
      "text/plain": [
       "['Sam', 'Pass', '2021']"
      ]
     },
     "execution_count": 12,
     "metadata": {},
     "output_type": "execute_result"
    }
   ],
   "source": [
    "list(student.values())"
   ]
  },
  {
   "cell_type": "markdown",
   "id": "92479dff-a627-4d01-a776-e6c45e6c27b6",
   "metadata": {},
   "source": [
    "# Items()"
   ]
  },
  {
   "cell_type": "markdown",
   "id": "9753a282-9303-49e3-bcbe-94c365735964",
   "metadata": {},
   "source": [
    "This method returns the list of the keys and values"
   ]
  },
  {
   "cell_type": "code",
   "execution_count": null,
   "id": "eaa25fc1-302e-4a56-a191-da0d9a464fc0",
   "metadata": {},
   "outputs": [],
   "source": [
    "student = {'name':'Sam','result':'Pass','year':'2021'}"
   ]
  },
  {
   "cell_type": "code",
   "execution_count": 14,
   "id": "adb9313e-dde8-4310-b234-6d3889614a03",
   "metadata": {},
   "outputs": [
    {
     "data": {
      "text/plain": [
       "[('name', 'Sam'), ('result', 'Pass'), ('year', '2021')]"
      ]
     },
     "execution_count": 14,
     "metadata": {},
     "output_type": "execute_result"
    }
   ],
   "source": [
    "list(student.items())\n"
   ]
  },
  {
   "cell_type": "markdown",
   "id": "5428b57b-6a1c-4d50-a920-d0ca2ead44fa",
   "metadata": {},
   "source": [
    "# Get()"
   ]
  },
  {
   "cell_type": "markdown",
   "id": "26b585cd-e102-42a0-9220-b16941ec8b7a",
   "metadata": {},
   "source": [
    "This method takes the key as an argument and returns None if the key is not found in the dictionary.\n",
    "\n"
   ]
  },
  {
   "cell_type": "code",
   "execution_count": 20,
   "id": "eac36f57-c6cd-4865-82b2-1b86a6b0aaa6",
   "metadata": {},
   "outputs": [],
   "source": [
    "student = {'name':'Sam','result':'Pass','year':'2021'}"
   ]
  },
  {
   "cell_type": "code",
   "execution_count": 21,
   "id": "c4dc755f-a522-4153-b816-f03bad22c86d",
   "metadata": {},
   "outputs": [
    {
     "data": {
      "text/plain": [
       "'Pass'"
      ]
     },
     "execution_count": 21,
     "metadata": {},
     "output_type": "execute_result"
    }
   ],
   "source": [
    "student.get('result')"
   ]
  },
  {
   "cell_type": "code",
   "execution_count": 22,
   "id": "f224b411-c284-4c7d-a16f-4c64c86af77d",
   "metadata": {},
   "outputs": [
    {
     "data": {
      "text/plain": [
       "'Sam'"
      ]
     },
     "execution_count": 22,
     "metadata": {},
     "output_type": "execute_result"
    }
   ],
   "source": [
    "student.get('name')"
   ]
  },
  {
   "cell_type": "markdown",
   "id": "339c6165-f3e9-46d2-ad8d-7670744c07bd",
   "metadata": {},
   "source": [
    "# Update()"
   ]
  },
  {
   "cell_type": "markdown",
   "id": "dc55c5de-260f-4e04-b776-d64fd6742856",
   "metadata": {},
   "source": [
    "You can add an element which is a key-value pair using the update() method\n",
    "\n"
   ]
  },
  {
   "cell_type": "code",
   "execution_count": 23,
   "id": "28733f1b-7bce-4d9c-9ce0-3d0e42e173a6",
   "metadata": {},
   "outputs": [],
   "source": [
    "student = {'name':'Sam','result':'Pass','year':'2021'}"
   ]
  },
  {
   "cell_type": "code",
   "execution_count": 24,
   "id": "62aec098-34e0-4662-b350-5e475245f46c",
   "metadata": {},
   "outputs": [],
   "source": [
    "student.update({'School':'XYZ Highschool'})"
   ]
  },
  {
   "cell_type": "code",
   "execution_count": 25,
   "id": "19782be3-bba5-4097-9213-83274d436c38",
   "metadata": {},
   "outputs": [
    {
     "data": {
      "text/plain": [
       "{'name': 'Sam', 'result': 'Pass', 'year': '2021', 'School': 'XYZ Highschool'}"
      ]
     },
     "execution_count": 25,
     "metadata": {},
     "output_type": "execute_result"
    }
   ],
   "source": [
    "student"
   ]
  },
  {
   "cell_type": "code",
   "execution_count": 33,
   "id": "dc11365b-f19e-4d91-bb0d-d44cd132e8be",
   "metadata": {},
   "outputs": [],
   "source": [
    "# Updating exisiting value\n",
    "student.update({'name':'Sofia'})"
   ]
  },
  {
   "cell_type": "code",
   "execution_count": 34,
   "id": "bb8a0626-f6a6-4946-a714-39e5aa92562c",
   "metadata": {},
   "outputs": [
    {
     "data": {
      "text/plain": [
       "{'name': 'Sofia', 'result': 'Pass', 'year': '2021', 'School': 'XYZ Highschool'}"
      ]
     },
     "execution_count": 34,
     "metadata": {},
     "output_type": "execute_result"
    }
   ],
   "source": [
    "student"
   ]
  },
  {
   "cell_type": "markdown",
   "id": "beb53aac-3845-4998-a91b-6f13fbc18855",
   "metadata": {},
   "source": [
    "# Pop()"
   ]
  },
  {
   "cell_type": "markdown",
   "id": "f63714f7-b818-49eb-8904-caae11e62786",
   "metadata": {},
   "source": [
    "This method removes and returns an element from a dictionary having the given key.\n",
    "\n"
   ]
  },
  {
   "cell_type": "code",
   "execution_count": 37,
   "id": "fa9a4fe1-842a-4f28-af5d-08e279c39515",
   "metadata": {},
   "outputs": [
    {
     "data": {
      "text/plain": [
       "'Pass'"
      ]
     },
     "execution_count": 37,
     "metadata": {},
     "output_type": "execute_result"
    }
   ],
   "source": [
    "student.pop('result')"
   ]
  },
  {
   "cell_type": "code",
   "execution_count": 38,
   "id": "7b352550-5b29-4fc8-a7c3-b739f7dff215",
   "metadata": {},
   "outputs": [
    {
     "data": {
      "text/plain": [
       "{'name': 'Sofia', 'year': '2021', 'School': 'XYZ Highschool'}"
      ]
     },
     "execution_count": 38,
     "metadata": {},
     "output_type": "execute_result"
    }
   ],
   "source": [
    "student"
   ]
  },
  {
   "cell_type": "code",
   "execution_count": null,
   "id": "0be7f274-678f-4367-a1cd-1ef1ca75ffd3",
   "metadata": {},
   "outputs": [],
   "source": []
  }
 ],
 "metadata": {
  "kernelspec": {
   "display_name": "Python 3 (ipykernel)",
   "language": "python",
   "name": "python3"
  },
  "language_info": {
   "codemirror_mode": {
    "name": "ipython",
    "version": 3
   },
   "file_extension": ".py",
   "mimetype": "text/x-python",
   "name": "python",
   "nbconvert_exporter": "python",
   "pygments_lexer": "ipython3",
   "version": "3.12.2"
  }
 },
 "nbformat": 4,
 "nbformat_minor": 5
}
