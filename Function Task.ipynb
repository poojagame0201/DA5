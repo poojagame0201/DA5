{
 "cells": [
  {
   "cell_type": "markdown",
   "id": "b8d68392",
   "metadata": {},
   "source": [
    "# Function "
   ]
  },
  {
   "cell_type": "code",
   "execution_count": 1,
   "id": "c282ba89",
   "metadata": {},
   "outputs": [],
   "source": [
    "def my_function():\n",
    "    print(\"hello from a Mini\")"
   ]
  },
  {
   "cell_type": "code",
   "execution_count": 2,
   "id": "12113392",
   "metadata": {},
   "outputs": [
    {
     "name": "stdout",
     "output_type": "stream",
     "text": [
      "hello from a Mini\n"
     ]
    }
   ],
   "source": [
    "my_function()"
   ]
  },
  {
   "cell_type": "code",
   "execution_count": 3,
   "id": "3c97847e",
   "metadata": {},
   "outputs": [],
   "source": [
    "def my_function(f1,f2,f3):\n",
    "    joint_name = f'{f1},{f2},{f3}'\n",
    "    result = {'name1':f1,'name2':f2,'name3':f3}\n",
    "    return result"
   ]
  },
  {
   "cell_type": "code",
   "execution_count": 4,
   "id": "65e11076",
   "metadata": {},
   "outputs": [],
   "source": [
    "f1 = \"A1\"\n",
    "f2 = \"A2\"\n",
    "f3 = \"A3\"\n",
    "output = my_function(f1,f2,f3)"
   ]
  },
  {
   "cell_type": "code",
   "execution_count": 5,
   "id": "7c6ac54a",
   "metadata": {},
   "outputs": [
    {
     "name": "stdout",
     "output_type": "stream",
     "text": [
      "{'name1': 'A1', 'name2': 'A2', 'name3': 'A3'}\n"
     ]
    }
   ],
   "source": [
    "print(output)"
   ]
  },
  {
   "cell_type": "code",
   "execution_count": null,
   "id": "e2e35dad",
   "metadata": {},
   "outputs": [],
   "source": []
  }
 ],
 "metadata": {
  "kernelspec": {
   "display_name": "Python 3 (ipykernel)",
   "language": "python",
   "name": "python3"
  },
  "language_info": {
   "codemirror_mode": {
    "name": "ipython",
    "version": 3
   },
   "file_extension": ".py",
   "mimetype": "text/x-python",
   "name": "python",
   "nbconvert_exporter": "python",
   "pygments_lexer": "ipython3",
   "version": "3.12.2"
  }
 },
 "nbformat": 4,
 "nbformat_minor": 5
}
