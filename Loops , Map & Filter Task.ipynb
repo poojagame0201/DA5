{
 "cells": [
  {
   "cell_type": "markdown",
   "id": "a4b204e1-12e2-4fe6-bffd-6a04bb50d71e",
   "metadata": {},
   "source": [
    "# while loop\n",
    "\n",
    "* A while loop repeatedly execute a single statement or group of statements as long as the condition is true."
   ]
  },
  {
   "cell_type": "code",
   "execution_count": 40,
   "id": "3604108a-6998-4e76-b874-9f362e6c6cc5",
   "metadata": {},
   "outputs": [],
   "source": [
    "ccc_list = [\n",
    "    {'Country': 'India', 'City': 'New Delhi', 'Continent': 'Asia'},\n",
    "    {'Country': 'Australia', 'City': 'Canberra', 'Continent': 'Australia'},\n",
    "    {'Country': 'South Africa', 'City': 'Cape Town', 'Continent': 'Africa'},\n",
    "    {'Country': 'France', 'City': 'Paris', 'Continent': 'Europe'},\n",
    "    {'Country': 'United States', 'City': 'Washington DC', 'Continent': 'North America'},\n",
    "]\n"
   ]
  },
  {
   "cell_type": "code",
   "execution_count": 41,
   "id": "5f7303df-8e3f-4066-9fbc-a4c303b5b0ba",
   "metadata": {},
   "outputs": [
    {
     "name": "stdout",
     "output_type": "stream",
     "text": [
      "India belongs to Asia Continent\n",
      "Australia belongs to Australia Continent\n",
      "South Africa belongs to Africa Continent\n",
      "France belongs to Europe Continent\n",
      "United States belongs to North America Continent\n"
     ]
    }
   ],
   "source": [
    "i = 0\n",
    "while i < len(ccc_list):\n",
    "    country = ccc_list[i]['Country']\n",
    "    continent = ccc_list[i]['Continent']\n",
    "    print(f'{country} belongs to {continent} Continent')\n",
    "    i = i + 1"
   ]
  },
  {
   "cell_type": "markdown",
   "id": "20094864-6e72-4e23-a750-0cae1c6c42d2",
   "metadata": {},
   "source": [
    "# for loop\n",
    "* for loop used to iterate over a sequence (such as a list, tuple, dictionary, string, range) and execute a block of code for each item in the sequence."
   ]
  },
  {
   "cell_type": "code",
   "execution_count": 42,
   "id": "10f558e5-71f8-4b52-a3b2-c19e46fe8893",
   "metadata": {},
   "outputs": [
    {
     "name": "stdout",
     "output_type": "stream",
     "text": [
      "New Delhi is the capital of India\n",
      "Canberra is the capital of Australia\n",
      "Cape Town is the capital of South Africa\n",
      "Paris is the capital of France\n",
      "Washington DC is the capital of United States\n"
     ]
    }
   ],
   "source": [
    "for values in ccc_list:\n",
    "    country = values['Country']\n",
    "    city = values['City']\n",
    "    continent = values['Continent']\n",
    "\n",
    "    print(f'{city} is the capital of {country}')"
   ]
  },
  {
   "cell_type": "markdown",
   "id": "e174c398-3f77-4516-b5e4-a31661334441",
   "metadata": {},
   "source": [
    "# Map Function\n",
    "* The map function allow to apply a function to an iterable object and returns an iterator containing the results. "
   ]
  },
  {
   "cell_type": "code",
   "execution_count": 43,
   "id": "3c6be83a-dc1e-4f66-9377-a0e5d9d173f7",
   "metadata": {},
   "outputs": [],
   "source": [
    "country_and_its_language = {\n",
    "    'India': 'Hindi',\n",
    "    'Australia': 'English',\n",
    "    'South Africa': 'Afrikaans',\n",
    "    'France': 'French',\n",
    "    'United States': 'English'\n",
    "}"
   ]
  },
  {
   "cell_type": "code",
   "execution_count": 44,
   "id": "ee10e26a-af03-4ba8-a369-1debe1eac559",
   "metadata": {},
   "outputs": [],
   "source": [
    "def add_language(language):\n",
    "    country = language['Country']\n",
    "    if country in country_and_its_language:\n",
    "        language['Language'] = country_and_its_language[country]\n",
    "        \n",
    "    return language"
   ]
  },
  {
   "cell_type": "code",
   "execution_count": 45,
   "id": "004591ca-f598-4d54-9c9e-4fd22f6b30ed",
   "metadata": {},
   "outputs": [
    {
     "name": "stdout",
     "output_type": "stream",
     "text": [
      "[{'Country': 'India', 'City': 'New Delhi', 'Continent': 'Asia', 'Language': 'Hindi'}, {'Country': 'Australia', 'City': 'Canberra', 'Continent': 'Australia', 'Language': 'English'}, {'Country': 'South Africa', 'City': 'Cape Town', 'Continent': 'Africa', 'Language': 'Afrikaans'}, {'Country': 'France', 'City': 'Paris', 'Continent': 'Europe', 'Language': 'French'}, {'Country': 'United States', 'City': 'Washington DC', 'Continent': 'North America', 'Language': 'English'}]\n"
     ]
    }
   ],
   "source": [
    "cccl_list = list(map(add_language, ccc_list))\n",
    "\n",
    "print(cccl_list)"
   ]
  },
  {
   "cell_type": "markdown",
   "id": "024138af-2aab-4f20-9804-e46371704269",
   "metadata": {},
   "source": [
    "# Filter and Lambda\n",
    "* Filter -  It returns the items of iterables for the function which is True.\n",
    "* Lambda - Lambda expressions allow to create anonymous functions. It can quickly make temporary functions without properly defining function using def."
   ]
  },
  {
   "cell_type": "code",
   "execution_count": 46,
   "id": "be0591c2-1cab-4104-bf15-85524f74181f",
   "metadata": {},
   "outputs": [
    {
     "name": "stdout",
     "output_type": "stream",
     "text": [
      "[{'Country': 'India', 'City': 'New Delhi', 'Continent': 'Asia', 'Language': 'Hindi'}]\n"
     ]
    }
   ],
   "source": [
    "filtered_list = list(filter(lambda x: x['Language'] == 'Hindi', cccl_list))\n",
    "\n",
    "print(filtered_list)"
   ]
  },
  {
   "cell_type": "code",
   "execution_count": null,
   "id": "bd58f37d-a9af-46f2-a597-77343cd3764e",
   "metadata": {},
   "outputs": [],
   "source": []
  }
 ],
 "metadata": {
  "kernelspec": {
   "display_name": "Python 3 (ipykernel)",
   "language": "python",
   "name": "python3"
  },
  "language_info": {
   "codemirror_mode": {
    "name": "ipython",
    "version": 3
   },
   "file_extension": ".py",
   "mimetype": "text/x-python",
   "name": "python",
   "nbconvert_exporter": "python",
   "pygments_lexer": "ipython3",
   "version": "3.11.7"
  }
 },
 "nbformat": 4,
 "nbformat_minor": 5
}
